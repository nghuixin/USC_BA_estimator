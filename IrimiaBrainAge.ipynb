{
  "cells": [
    {
      "cell_type": "markdown",
      "metadata": {
        "id": "view-in-github",
        "colab_type": "text"
      },
      "source": [
        "<a href=\"https://colab.research.google.com/github/nghuixin/USC_BA_estimator/blob/main/IrimiaBrainAge.ipynb\" target=\"_parent\"><img src=\"https://colab.research.google.com/assets/colab-badge.svg\" alt=\"Open In Colab\"/></a>"
      ]
    },
    {
      "cell_type": "code",
      "execution_count": null,
      "metadata": {
        "colab": {
          "base_uri": "https://localhost:8080/"
        },
        "id": "7JvRbLuZy0Yw",
        "outputId": "2eeeb2a3-ad9a-465e-b756-dbaf4c7361e4"
      },
      "outputs": [
        {
          "output_type": "stream",
          "name": "stdout",
          "text": [
            "Drive already mounted at /content/drive/; to attempt to forcibly remount, call drive.mount(\"/content/drive/\", force_remount=True).\n"
          ]
        }
      ],
      "source": [
        "from google.colab import drive\n",
        "drive.mount('/content/drive/')"
      ]
    },
    {
      "cell_type": "code",
      "execution_count": null,
      "metadata": {
        "id": "RcMGzvAhL80l",
        "colab": {
          "base_uri": "https://localhost:8080/"
        },
        "outputId": "9b3bfabf-00f4-4235-98a5-539fd3c1039c"
      },
      "outputs": [
        {
          "output_type": "stream",
          "name": "stdout",
          "text": [
            "/content/drive/MyDrive\n"
          ]
        }
      ],
      "source": [
        "%cd  \"/content/drive/MyDrive/\""
      ]
    },
    {
      "cell_type": "code",
      "execution_count": null,
      "metadata": {
        "id": "MgROs33azIVB"
      },
      "outputs": [],
      "source": [
        "#!git clone https://github.com/irimia-laboratory/USC_BA_estimator.git # change folder name from USC_BA_estimator to test_brain_age\n",
        "%cd /content/drive/MyDrive/Colab\\ Notebooks/test_brain_age\n",
        "!pip install -r requirements.txt\n",
        "#!pip install pyfreesurfer"
      ]
    },
    {
      "cell_type": "code",
      "source": [
        "%cd /content/drive/MyDrive/Colab\\ Notebooks/test_brain_age"
      ],
      "metadata": {
        "id": "nPvxYbdDOa80",
        "colab": {
          "base_uri": "https://localhost:8080/"
        },
        "outputId": "67320fe4-c715-421f-d6c4-db5102002b06"
      },
      "execution_count": null,
      "outputs": [
        {
          "output_type": "stream",
          "name": "stdout",
          "text": [
            "/content/drive/MyDrive/Colab Notebooks/test_brain_age\n"
          ]
        }
      ]
    },
    {
      "cell_type": "code",
      "execution_count": 23,
      "metadata": {
        "id": "Y1gk8F1K_sm8",
        "colab": {
          "base_uri": "https://localhost:8080/"
        },
        "outputId": "1a49d876-9b29-4dc8-e0c3-85bbdf3212be"
      },
      "outputs": [
        {
          "output_type": "stream",
          "name": "stdout",
          "text": [
            "/content/drive/MyDrive/Colab Notebooks/test_brain_age\n"
          ]
        }
      ],
      "source": [
        "import numpy as np\n",
        "import matplotlib.pyplot as plt\n",
        "import os\n",
        "import sys\n",
        "import pandas as pd\n",
        "# Path to our Jupyter notebook.\n",
        "sys.path.append(os.path.join(\"/content/drive/MyDrive/Colab Notebooks/test_brain_age\", \"function\"))\n",
        "\n",
        "\n",
        "print(os.getcwd())\n",
        "import nibabel.freesurfer.mghformat as mgh\n",
        "from scipy.ndimage import zoom\n",
        "import datetime\n",
        "import pandas as pd\n",
        "from preprocess import processmgz\n",
        "import savepath_updated\n",
        "import repadding\n",
        "from pandas import read_csv\n",
        "import tensorflow as tf\n",
        "from tensorflow import keras\n",
        "import modelcnn\n",
        "import saliencymaps\n",
        "import multiprocessing as mp"
      ]
    },
    {
      "cell_type": "code",
      "execution_count": 24,
      "metadata": {
        "id": "-fPN94OLBHa2"
      },
      "outputs": [],
      "source": [
        "def mainfunction(dir_test_brain_age, path_to_model_weights, path_to_brain_mri):\n",
        "    # we supposed the brain.mgz files are saved under this format: \"/path_to_brain_mri/subject_id/brain.mgz\".\n",
        "    path_of_mgz = os.listdir(path_to_brain_mri)\n",
        "    brains_tmp = []\n",
        "    subj_id = []\n",
        "    for mgz_id in path_of_mgz:\n",
        "      print(mgz_id)\n",
        "      if os.path.isdir(path_to_brain_mri+\"/\"+mgz_id) and os.path.exists(path_to_brain_mri+\"/\"+mgz_id+\"/brain.mgz\"):\n",
        "        subj_id.append(mgz_id)\n",
        "        print(subj_id)\n",
        "        brains_tmp.append(zoom(mgh.load(path_to_brain_mri+\"/\"+mgz_id+\"/brain.mgz\").get_fdata(), (0.5, 0.5, 0.5)))\n",
        "        print(brains_temp)\n",
        "        print(mgh)\n",
        "\n",
        "    brains, coordinates = processmgz(brains_tmp)\n",
        "    (\n",
        "        brain_save_path,\n",
        "        coordinates_save_path,\n",
        "        coordinates_save_path_csv,\n",
        "    ) = savepath_updated.filename_brainnpy(dir_test_brain_age)\n",
        "     # save the cropped brains\n",
        "    np.save(brain_save_path, brains)\n",
        "\n",
        "    # save information for repadding.\n",
        "    np.save(coordinates_save_path, coordinates)\n",
        "    df_coordinates = pd.DataFrame(coordinates)\n",
        "    df_coordinates.columns = [\"x\", \"y\", \"z\"]\n",
        "    df_coordinates[\"subj_id\"] = subj_id\n",
        "    df_coordinates.to_csv(coordinates_save_path_csv)\n",
        "\n",
        "    # Build model.\n",
        "    model = modelcnn.get_model(width=82, height=86, depth=100)\n",
        "\n",
        "    # Load best weights.\n",
        "    model.load_weights(path_to_model_weights)\n",
        "\n",
        "    # make brain age predictions\n",
        "    predictions = model.predict(brains) + 22\n",
        "\n",
        "    # save the prediction results. Of note, the input subject ids should be saved as csv.\n",
        "\n",
        "    BA_save_path_csv = savepath_updated.filename_pred(dir_test_brain_age)\n",
        "    df_BA = pd.DataFrame(predictions)\n",
        "    df_BA.columns = [\"BA\"]\n",
        "    df_BA[\"subj_id\"] = subj_id\n",
        "    df_BA.to_csv(BA_save_path_csv)\n",
        "\n",
        "    # Generate saliency mapes\n",
        "    saliency_map_list = saliencymaps.smap(model, brains)\n",
        "\n",
        "    # Repadding the saliency maps\n",
        "    coordinates = np.load(coordinates_save_path)\n",
        "    repadded_saliency_maps = repadding.repadding(saliency_map_list, coordinates)\n",
        "\n",
        "    # Save the saliency maps\n",
        "    smap_path = savepath_updated.filename_smap(dir_test_brain_age)\n",
        "    np.save(smap_path, repadded_saliency_maps)\n",
        "    return df_BA, repadded_saliency_maps"
      ]
    },
    {
      "cell_type": "code",
      "source": [
        "!pwd"
      ],
      "metadata": {
        "colab": {
          "base_uri": "https://localhost:8080/"
        },
        "id": "f33x4IjfIBTR",
        "outputId": "2cf70dec-aaa5-427d-a151-b8cef9bef53d"
      },
      "execution_count": 25,
      "outputs": [
        {
          "output_type": "stream",
          "name": "stdout",
          "text": [
            "/content/drive/MyDrive/Colab Notebooks/test_brain_age\n"
          ]
        }
      ]
    },
    {
      "cell_type": "code",
      "source": [
        "# path to the folder\n",
        "dir_test_brain_age = \"/content/drive/MyDrive/Colab Notebooks/test_brain_age\"\n",
        "\n",
        "# path to the h5 file\n",
        "path_to_model_weights = os.path.join(dir_test_brain_age, \"function/model/saved-model-317.h5\")\n",
        "print(path_to_model_weights)\n",
        "\n",
        "# path to the brain.mgz files\n",
        "path_to_brain_mri = os.path.join(dir_test_brain_age, \"brain_mri\")\n",
        "print(path_to_brain_mri)\n",
        "\n",
        "# the mainfunction will automatically save and output the predicted BAs and saliency maps.\n",
        "predicted_BA, repadded_saliency_maps = mainfunction(dir_test_brain_age, path_to_model_weights, path_to_brain_mri)"
      ],
      "metadata": {
        "id": "YxTiyOettoa0",
        "colab": {
          "base_uri": "https://localhost:8080/",
          "height": 425
        },
        "outputId": "cc16760e-6b28-4cbd-a19c-ec742bdc479e"
      },
      "execution_count": 26,
      "outputs": [
        {
          "output_type": "stream",
          "name": "stdout",
          "text": [
            "/content/drive/MyDrive/Colab Notebooks/test_brain_age/function/model/saved-model-317.h5\n",
            "/content/drive/MyDrive/Colab Notebooks/test_brain_age/brain_mri\n",
            "s223\n",
            "s100\n",
            "run processmgz\n",
            "(0,)\n"
          ]
        },
        {
          "output_type": "error",
          "ename": "AxisError",
          "evalue": "axis 4 is out of bounds for array of dimension 2",
          "traceback": [
            "\u001b[0;31m---------------------------------------------------------------------------\u001b[0m",
            "\u001b[0;31mAxisError\u001b[0m                                 Traceback (most recent call last)",
            "\u001b[0;32m<ipython-input-26-f08666bc2fd7>\u001b[0m in \u001b[0;36m<cell line: 13>\u001b[0;34m()\u001b[0m\n\u001b[1;32m     11\u001b[0m \u001b[0;34m\u001b[0m\u001b[0m\n\u001b[1;32m     12\u001b[0m \u001b[0;31m# the mainfunction will automatically save and output the predicted BAs and saliency maps.\u001b[0m\u001b[0;34m\u001b[0m\u001b[0;34m\u001b[0m\u001b[0m\n\u001b[0;32m---> 13\u001b[0;31m \u001b[0mpredicted_BA\u001b[0m\u001b[0;34m,\u001b[0m \u001b[0mrepadded_saliency_maps\u001b[0m \u001b[0;34m=\u001b[0m \u001b[0mmainfunction\u001b[0m\u001b[0;34m(\u001b[0m\u001b[0mdir_test_brain_age\u001b[0m\u001b[0;34m,\u001b[0m \u001b[0mpath_to_model_weights\u001b[0m\u001b[0;34m,\u001b[0m \u001b[0mpath_to_brain_mri\u001b[0m\u001b[0;34m)\u001b[0m\u001b[0;34m\u001b[0m\u001b[0;34m\u001b[0m\u001b[0m\n\u001b[0m",
            "\u001b[0;32m<ipython-input-24-035b56e617fe>\u001b[0m in \u001b[0;36mmainfunction\u001b[0;34m(dir_test_brain_age, path_to_model_weights, path_to_brain_mri)\u001b[0m\n\u001b[1;32m     13\u001b[0m         \u001b[0mprint\u001b[0m\u001b[0;34m(\u001b[0m\u001b[0mmgh\u001b[0m\u001b[0;34m)\u001b[0m\u001b[0;34m\u001b[0m\u001b[0;34m\u001b[0m\u001b[0m\n\u001b[1;32m     14\u001b[0m \u001b[0;34m\u001b[0m\u001b[0m\n\u001b[0;32m---> 15\u001b[0;31m     \u001b[0mbrains\u001b[0m\u001b[0;34m,\u001b[0m \u001b[0mcoordinates\u001b[0m \u001b[0;34m=\u001b[0m \u001b[0mprocessmgz\u001b[0m\u001b[0;34m(\u001b[0m\u001b[0mbrains_tmp\u001b[0m\u001b[0;34m)\u001b[0m\u001b[0;34m\u001b[0m\u001b[0;34m\u001b[0m\u001b[0m\n\u001b[0m\u001b[1;32m     16\u001b[0m     (\n\u001b[1;32m     17\u001b[0m         \u001b[0mbrain_save_path\u001b[0m\u001b[0;34m,\u001b[0m\u001b[0;34m\u001b[0m\u001b[0;34m\u001b[0m\u001b[0m\n",
            "\u001b[0;32m/content/drive/MyDrive/Colab Notebooks/test_brain_age/function/preprocess.py\u001b[0m in \u001b[0;36mprocessmgz\u001b[0;34m(brains)\u001b[0m\n\u001b[1;32m    124\u001b[0m \u001b[0;34m\u001b[0m\u001b[0m\n\u001b[1;32m    125\u001b[0m \u001b[0;31m# if __name__ == '__main__':\u001b[0m\u001b[0;34m\u001b[0m\u001b[0;34m\u001b[0m\u001b[0m\n\u001b[0;32m--> 126\u001b[0;31m \u001b[0;31m#     tmp=np.zeros((82, 86, 100))\u001b[0m\u001b[0;34m\u001b[0m\u001b[0;34m\u001b[0m\u001b[0m\n\u001b[0m\u001b[1;32m    127\u001b[0m \u001b[0;31m#     data = process_brain_mgz(tmp)\u001b[0m\u001b[0;34m\u001b[0m\u001b[0;34m\u001b[0m\u001b[0m\n\u001b[1;32m    128\u001b[0m \u001b[0;31m# return 0\u001b[0m\u001b[0;34m\u001b[0m\u001b[0;34m\u001b[0m\u001b[0m\n",
            "\u001b[0;32m/usr/local/lib/python3.10/dist-packages/numpy/lib/shape_base.py\u001b[0m in \u001b[0;36mexpand_dims\u001b[0;34m(a, axis)\u001b[0m\n\u001b[1;32m    595\u001b[0m \u001b[0;34m\u001b[0m\u001b[0m\n\u001b[1;32m    596\u001b[0m     \u001b[0mout_ndim\u001b[0m \u001b[0;34m=\u001b[0m \u001b[0mlen\u001b[0m\u001b[0;34m(\u001b[0m\u001b[0maxis\u001b[0m\u001b[0;34m)\u001b[0m \u001b[0;34m+\u001b[0m \u001b[0ma\u001b[0m\u001b[0;34m.\u001b[0m\u001b[0mndim\u001b[0m\u001b[0;34m\u001b[0m\u001b[0;34m\u001b[0m\u001b[0m\n\u001b[0;32m--> 597\u001b[0;31m     \u001b[0maxis\u001b[0m \u001b[0;34m=\u001b[0m \u001b[0mnormalize_axis_tuple\u001b[0m\u001b[0;34m(\u001b[0m\u001b[0maxis\u001b[0m\u001b[0;34m,\u001b[0m \u001b[0mout_ndim\u001b[0m\u001b[0;34m)\u001b[0m\u001b[0;34m\u001b[0m\u001b[0;34m\u001b[0m\u001b[0m\n\u001b[0m\u001b[1;32m    598\u001b[0m \u001b[0;34m\u001b[0m\u001b[0m\n\u001b[1;32m    599\u001b[0m     \u001b[0mshape_it\u001b[0m \u001b[0;34m=\u001b[0m \u001b[0miter\u001b[0m\u001b[0;34m(\u001b[0m\u001b[0ma\u001b[0m\u001b[0;34m.\u001b[0m\u001b[0mshape\u001b[0m\u001b[0;34m)\u001b[0m\u001b[0;34m\u001b[0m\u001b[0;34m\u001b[0m\u001b[0m\n",
            "\u001b[0;32m/usr/local/lib/python3.10/dist-packages/numpy/core/numeric.py\u001b[0m in \u001b[0;36mnormalize_axis_tuple\u001b[0;34m(axis, ndim, argname, allow_duplicate)\u001b[0m\n\u001b[1;32m   1378\u001b[0m             \u001b[0;32mpass\u001b[0m\u001b[0;34m\u001b[0m\u001b[0;34m\u001b[0m\u001b[0m\n\u001b[1;32m   1379\u001b[0m     \u001b[0;31m# Going via an iterator directly is slower than via list comprehension.\u001b[0m\u001b[0;34m\u001b[0m\u001b[0;34m\u001b[0m\u001b[0m\n\u001b[0;32m-> 1380\u001b[0;31m     \u001b[0maxis\u001b[0m \u001b[0;34m=\u001b[0m \u001b[0mtuple\u001b[0m\u001b[0;34m(\u001b[0m\u001b[0;34m[\u001b[0m\u001b[0mnormalize_axis_index\u001b[0m\u001b[0;34m(\u001b[0m\u001b[0max\u001b[0m\u001b[0;34m,\u001b[0m \u001b[0mndim\u001b[0m\u001b[0;34m,\u001b[0m \u001b[0margname\u001b[0m\u001b[0;34m)\u001b[0m \u001b[0;32mfor\u001b[0m \u001b[0max\u001b[0m \u001b[0;32min\u001b[0m \u001b[0maxis\u001b[0m\u001b[0;34m]\u001b[0m\u001b[0;34m)\u001b[0m\u001b[0;34m\u001b[0m\u001b[0;34m\u001b[0m\u001b[0m\n\u001b[0m\u001b[1;32m   1381\u001b[0m     \u001b[0;32mif\u001b[0m \u001b[0;32mnot\u001b[0m \u001b[0mallow_duplicate\u001b[0m \u001b[0;32mand\u001b[0m \u001b[0mlen\u001b[0m\u001b[0;34m(\u001b[0m\u001b[0mset\u001b[0m\u001b[0;34m(\u001b[0m\u001b[0maxis\u001b[0m\u001b[0;34m)\u001b[0m\u001b[0;34m)\u001b[0m \u001b[0;34m!=\u001b[0m \u001b[0mlen\u001b[0m\u001b[0;34m(\u001b[0m\u001b[0maxis\u001b[0m\u001b[0;34m)\u001b[0m\u001b[0;34m:\u001b[0m\u001b[0;34m\u001b[0m\u001b[0;34m\u001b[0m\u001b[0m\n\u001b[1;32m   1382\u001b[0m         \u001b[0;32mif\u001b[0m \u001b[0margname\u001b[0m\u001b[0;34m:\u001b[0m\u001b[0;34m\u001b[0m\u001b[0;34m\u001b[0m\u001b[0m\n",
            "\u001b[0;32m/usr/local/lib/python3.10/dist-packages/numpy/core/numeric.py\u001b[0m in \u001b[0;36m<listcomp>\u001b[0;34m(.0)\u001b[0m\n\u001b[1;32m   1378\u001b[0m             \u001b[0;32mpass\u001b[0m\u001b[0;34m\u001b[0m\u001b[0;34m\u001b[0m\u001b[0m\n\u001b[1;32m   1379\u001b[0m     \u001b[0;31m# Going via an iterator directly is slower than via list comprehension.\u001b[0m\u001b[0;34m\u001b[0m\u001b[0;34m\u001b[0m\u001b[0m\n\u001b[0;32m-> 1380\u001b[0;31m     \u001b[0maxis\u001b[0m \u001b[0;34m=\u001b[0m \u001b[0mtuple\u001b[0m\u001b[0;34m(\u001b[0m\u001b[0;34m[\u001b[0m\u001b[0mnormalize_axis_index\u001b[0m\u001b[0;34m(\u001b[0m\u001b[0max\u001b[0m\u001b[0;34m,\u001b[0m \u001b[0mndim\u001b[0m\u001b[0;34m,\u001b[0m \u001b[0margname\u001b[0m\u001b[0;34m)\u001b[0m \u001b[0;32mfor\u001b[0m \u001b[0max\u001b[0m \u001b[0;32min\u001b[0m \u001b[0maxis\u001b[0m\u001b[0;34m]\u001b[0m\u001b[0;34m)\u001b[0m\u001b[0;34m\u001b[0m\u001b[0;34m\u001b[0m\u001b[0m\n\u001b[0m\u001b[1;32m   1381\u001b[0m     \u001b[0;32mif\u001b[0m \u001b[0;32mnot\u001b[0m \u001b[0mallow_duplicate\u001b[0m \u001b[0;32mand\u001b[0m \u001b[0mlen\u001b[0m\u001b[0;34m(\u001b[0m\u001b[0mset\u001b[0m\u001b[0;34m(\u001b[0m\u001b[0maxis\u001b[0m\u001b[0;34m)\u001b[0m\u001b[0;34m)\u001b[0m \u001b[0;34m!=\u001b[0m \u001b[0mlen\u001b[0m\u001b[0;34m(\u001b[0m\u001b[0maxis\u001b[0m\u001b[0;34m)\u001b[0m\u001b[0;34m:\u001b[0m\u001b[0;34m\u001b[0m\u001b[0;34m\u001b[0m\u001b[0m\n\u001b[1;32m   1382\u001b[0m         \u001b[0;32mif\u001b[0m \u001b[0margname\u001b[0m\u001b[0;34m:\u001b[0m\u001b[0;34m\u001b[0m\u001b[0;34m\u001b[0m\u001b[0m\n",
            "\u001b[0;31mAxisError\u001b[0m: axis 4 is out of bounds for array of dimension 2"
          ]
        }
      ]
    }
  ],
  "metadata": {
    "colab": {
      "provenance": [],
      "gpuType": "T4",
      "include_colab_link": true
    },
    "kernelspec": {
      "display_name": "Python 3",
      "name": "python3"
    },
    "language_info": {
      "name": "python"
    },
    "accelerator": "GPU"
  },
  "nbformat": 4,
  "nbformat_minor": 0
}